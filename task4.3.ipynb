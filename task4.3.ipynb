{
 "cells": [
  {
   "cell_type": "code",
   "execution_count": 1,
   "id": "e8fec20f",
   "metadata": {},
   "outputs": [],
   "source": [
    "import cv2 ,  numpy"
   ]
  },
  {
   "cell_type": "code",
   "execution_count": 2,
   "id": "2f019fef",
   "metadata": {},
   "outputs": [],
   "source": [
    "pic1 = cv2.imread(\"bike1.jpg\")\n",
    "pic1.shape\n",
    "cv2.imshow(\"bikes\",pic1)\n",
    "cv2.waitKey()\n",
    "cv2.destroyAllWindows()"
   ]
  },
  {
   "cell_type": "code",
   "execution_count": 3,
   "id": "43fe998b",
   "metadata": {},
   "outputs": [],
   "source": [
    "pic2 = cv2.imread(\"bike2.jpg\")\n",
    "pic2.shape\n",
    "cv2.imshow(\"bikes\",pic2)\n",
    "cv2.waitKey()\n",
    "cv2.destroyAllWindows()"
   ]
  },
  {
   "cell_type": "code",
   "execution_count": 4,
   "id": "fbdf4e11",
   "metadata": {},
   "outputs": [],
   "source": [
    "collage1 = numpy.hstack((pic1 , pic2))\n",
    "cv2.imshow(\"bikescollage\", collage1)\n",
    "cv2.waitKey()\n",
    "cv2.destroyAllWindows()"
   ]
  },
  {
   "cell_type": "code",
   "execution_count": 5,
   "id": "a4bef47f",
   "metadata": {},
   "outputs": [],
   "source": [
    "collage1 = numpy.vstack((pic1 , pic2))\n",
    "cv2.imshow(\"bikescollage\", collage1)\n",
    "cv2.waitKey()\n",
    "cv2.destroyAllWindows()"
   ]
  },
  {
   "cell_type": "code",
   "execution_count": null,
   "id": "ceb7bad5",
   "metadata": {},
   "outputs": [],
   "source": []
  }
 ],
 "metadata": {
  "kernelspec": {
   "display_name": "Python 3",
   "language": "python",
   "name": "python3"
  },
  "language_info": {
   "codemirror_mode": {
    "name": "ipython",
    "version": 3
   },
   "file_extension": ".py",
   "mimetype": "text/x-python",
   "name": "python",
   "nbconvert_exporter": "python",
   "pygments_lexer": "ipython3",
   "version": "3.8.8"
  }
 },
 "nbformat": 4,
 "nbformat_minor": 5
}
