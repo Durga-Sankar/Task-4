{
 "cells": [
  {
   "cell_type": "code",
   "execution_count": 1,
   "id": "74c78eab",
   "metadata": {},
   "outputs": [],
   "source": [
    "import cv2"
   ]
  },
  {
   "cell_type": "code",
   "execution_count": 22,
   "id": "b961df03",
   "metadata": {},
   "outputs": [],
   "source": [
    "img1 = cv2.imread(\"tom.png\")\n",
    "cv2.imshow(\"tom\",img1)\n",
    "cv2.waitKey()\n",
    "cv2.destroyAllWindows()"
   ]
  },
  {
   "cell_type": "code",
   "execution_count": 3,
   "id": "7dd016cc",
   "metadata": {},
   "outputs": [],
   "source": [
    "img2 = cv2.imread(\"jerry.jpg\")\n",
    "cv2.imshow(\"jerry\",img2)\n",
    "cv2.waitKey()\n",
    "cv2.destroyAllWindows()"
   ]
  },
  {
   "cell_type": "code",
   "execution_count": 4,
   "id": "7ed91c38",
   "metadata": {},
   "outputs": [
    {
     "data": {
      "text/plain": [
       "(950, 950, 3)"
      ]
     },
     "execution_count": 4,
     "metadata": {},
     "output_type": "execute_result"
    }
   ],
   "source": [
    "img2.shape"
   ]
  },
  {
   "cell_type": "code",
   "execution_count": 5,
   "id": "085ba527",
   "metadata": {},
   "outputs": [
    {
     "data": {
      "text/plain": [
       "(608, 640, 3)"
      ]
     },
     "execution_count": 5,
     "metadata": {},
     "output_type": "execute_result"
    }
   ],
   "source": [
    "img1.shape"
   ]
  },
  {
   "cell_type": "code",
   "execution_count": 15,
   "id": "102ab92f",
   "metadata": {},
   "outputs": [],
   "source": [
    "x=img1\n",
    "y=img2"
   ]
  },
  {
   "cell_type": "code",
   "execution_count": 23,
   "id": "47e43e8f",
   "metadata": {},
   "outputs": [],
   "source": [
    "img1crop = img1[74:374,190:490]\n",
    "cv2.imshow(\"tom\",img1crop)\n",
    "cv2.waitKey()\n",
    "cv2.destroyAllWindows()"
   ]
  },
  {
   "cell_type": "code",
   "execution_count": 24,
   "id": "f9dba5f1",
   "metadata": {},
   "outputs": [],
   "source": [
    "img2crop = img2[90:390,300:600]\n",
    "cv2.imshow(\"jerry\",img2crop)\n",
    "cv2.waitKey()\n",
    "cv2.destroyAllWindows()\n"
   ]
  },
  {
   "cell_type": "code",
   "execution_count": 25,
   "id": "cf3b6a2c",
   "metadata": {},
   "outputs": [],
   "source": [
    "x[74:374,190:490]=img2crop\n",
    "\n",
    "cv2.imshow(\"tomcrop\",x)\n",
    "cv2.waitKey()\n",
    "cv2.destroyAllWindows()"
   ]
  },
  {
   "cell_type": "code",
   "execution_count": 26,
   "id": "d88a4056",
   "metadata": {},
   "outputs": [],
   "source": [
    "y[90:390,300:600]=img1crop\n",
    "\n",
    "cv2.imshow(\"tomcrop\",y)\n",
    "cv2.waitKey()\n",
    "cv2.destroyAllWindows()"
   ]
  },
  {
   "cell_type": "code",
   "execution_count": null,
   "id": "1abd94f3",
   "metadata": {},
   "outputs": [],
   "source": []
  }
 ],
 "metadata": {
  "kernelspec": {
   "display_name": "Python 3",
   "language": "python",
   "name": "python3"
  },
  "language_info": {
   "codemirror_mode": {
    "name": "ipython",
    "version": 3
   },
   "file_extension": ".py",
   "mimetype": "text/x-python",
   "name": "python",
   "nbconvert_exporter": "python",
   "pygments_lexer": "ipython3",
   "version": "3.8.8"
  }
 },
 "nbformat": 4,
 "nbformat_minor": 5
}
