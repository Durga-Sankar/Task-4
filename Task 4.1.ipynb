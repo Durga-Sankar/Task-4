{
 "cells": [
  {
   "cell_type": "code",
   "execution_count": 1,
   "id": "0632f655",
   "metadata": {},
   "outputs": [],
   "source": [
    "import cv2, numpy"
   ]
  },
  {
   "cell_type": "code",
   "execution_count": 2,
   "id": "1da27764",
   "metadata": {},
   "outputs": [],
   "source": [
    "photo=numpy.zeros((500,500,3)) #Drawing a pulley"
   ]
  },
  {
   "cell_type": "code",
   "execution_count": 3,
   "id": "8a4478b6",
   "metadata": {},
   "outputs": [],
   "source": [
    "photo=cv2.line(photo, (247,123), (80,270), (0,0,120), 10)#backline"
   ]
  },
  {
   "cell_type": "code",
   "execution_count": 4,
   "id": "8c566971",
   "metadata": {},
   "outputs": [],
   "source": [
    "photo=cv2.circle(photo, (247,123), 63, (110,112,111),-1)#upcircle back"
   ]
  },
  {
   "cell_type": "code",
   "execution_count": 5,
   "id": "eab4679e",
   "metadata": {},
   "outputs": [],
   "source": [
    "photo=cv2.circle(photo, (80,270), 63, (110,112,111),-1)#downcircle back"
   ]
  },
  {
   "cell_type": "code",
   "execution_count": 6,
   "id": "59d0ccee",
   "metadata": {},
   "outputs": [],
   "source": [
    "photo=cv2.circle(photo, (247,153), 63, (255,0,0),-1)#ucfront"
   ]
  },
  {
   "cell_type": "code",
   "execution_count": 7,
   "id": "191b7c35",
   "metadata": {},
   "outputs": [],
   "source": [
    "photo=cv2.circle(photo, (247,153), 20, (0,0,0),-1)#ucfront"
   ]
  },
  {
   "cell_type": "code",
   "execution_count": 8,
   "id": "ab3ef059",
   "metadata": {},
   "outputs": [],
   "source": [
    "photo=cv2.circle(photo, (80,300), 63, (255,0,0),-1)#dcfront"
   ]
  },
  {
   "cell_type": "code",
   "execution_count": 9,
   "id": "b1a2608c",
   "metadata": {},
   "outputs": [],
   "source": [
    "photo=cv2.circle(photo, (80,300), 20, (0,0,0),-1)#dcfront"
   ]
  },
  {
   "cell_type": "code",
   "execution_count": 10,
   "id": "c00b3c2e",
   "metadata": {},
   "outputs": [],
   "source": [
    "photo=cv2.line(photo, (247,153), (80,300), (0,0,120), 10)#fline"
   ]
  },
  {
   "cell_type": "code",
   "execution_count": 11,
   "id": "e9e77d47",
   "metadata": {},
   "outputs": [],
   "source": [
    "photo=cv2.line(photo, (310,143), (310,300), (0,0,120), 10)#string"
   ]
  },
  {
   "cell_type": "code",
   "execution_count": 12,
   "id": "c23bea29",
   "metadata": {},
   "outputs": [],
   "source": [
    "photo = cv2.rectangle(photo, (300,300), (320,310), (130,0,75), -1)#small"
   ]
  },
  {
   "cell_type": "code",
   "execution_count": 13,
   "id": "5e59c723",
   "metadata": {},
   "outputs": [],
   "source": [
    "photo = cv2.rectangle(photo, (250,310), (370,350), (130,12,175), -1)#large"
   ]
  },
  {
   "cell_type": "code",
   "execution_count": 14,
   "id": "69b70261",
   "metadata": {},
   "outputs": [],
   "source": [
    "font = cv2.FONT_HERSHEY_SIMPLEX"
   ]
  },
  {
   "cell_type": "code",
   "execution_count": 15,
   "id": "0c3fbe8f",
   "metadata": {},
   "outputs": [],
   "source": [
    "photo=cv2.putText(photo, 'Hello !!', (255,340), cv2.FONT_HERSHEY_SIMPLEX, 0.9, (0,0,0), 2)#text"
   ]
  },
  {
   "cell_type": "code",
   "execution_count": 16,
   "id": "bd4bc4c6",
   "metadata": {},
   "outputs": [],
   "source": [
    "cv2.imshow(\"my pic\", photo)\n",
    "cv2.waitKey()\n",
    "cv2.destroyAllWindows()"
   ]
  },
  {
   "cell_type": "code",
   "execution_count": null,
   "id": "41a08679",
   "metadata": {},
   "outputs": [],
   "source": []
  }
 ],
 "metadata": {
  "kernelspec": {
   "display_name": "Python 3",
   "language": "python",
   "name": "python3"
  },
  "language_info": {
   "codemirror_mode": {
    "name": "ipython",
    "version": 3
   },
   "file_extension": ".py",
   "mimetype": "text/x-python",
   "name": "python",
   "nbconvert_exporter": "python",
   "pygments_lexer": "ipython3",
   "version": "3.8.8"
  }
 },
 "nbformat": 4,
 "nbformat_minor": 5
}
